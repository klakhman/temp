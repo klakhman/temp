{
 "cells": [
  {
   "cell_type": "code",
   "execution_count": 1,
   "id": "08bec144-5d21-4c6b-9f8b-9d97673266ef",
   "metadata": {},
   "outputs": [],
   "source": [
    "# ------------------------------------------------------------\n",
    "\n",
    "avg_words_per_minute = 125\n",
    "avg_tokens_per_words = 2\n",
    "\n",
    "# ------------------------------------------------------------\n",
    "\n",
    "avg_user_phrase_duration = 1 # in minutes\n",
    "agent_to_user_phrase_duration_ratio = 2\n",
    "\n",
    "system_prompt_length = 2000 * avg_tokens_per_words # actual system prompt + user history if applicable (in tokens)\n",
    "\n",
    "# ------------------------------------------------------------\n",
    "\n",
    "price_per_input_token = 0.6 / 10**6\n",
    "price_per_output_token = 2.4 / 10**6\n",
    "\n",
    "price_per_input_token_full = 2.50 / 10**6\n",
    "price_per_output_token_full = 10 / 10**6\n"
   ]
  },
  {
   "cell_type": "code",
   "execution_count": 2,
   "id": "f7eb4364-c925-490f-b13c-116dcad5a75a",
   "metadata": {},
   "outputs": [],
   "source": [
    "def call_cost(call_duration_in_mins, debug=False):\n",
    "    num_dialog_turns = call_duration_in_mins / (avg_user_phrase_duration + agent_to_user_phrase_duration_ratio * avg_user_phrase_duration)\n",
    "    \n",
    "    avg_user_phrase_tokens = avg_user_phrase_duration * avg_words_per_minute * avg_tokens_per_words\n",
    "    avg_agent_phrase_tokens = avg_user_phrase_tokens * agent_to_user_phrase_duration_ratio\n",
    "\n",
    "    input_tokens_per_call = num_dialog_turns * system_prompt_length + \\\n",
    "        num_dialog_turns * (num_dialog_turns - 1) / 2. * (avg_user_phrase_tokens + avg_agent_phrase_tokens)\n",
    "    output_tokens_per_call = num_dialog_turns * avg_agent_phrase_tokens\n",
    "\n",
    "    input_tokens_cost = input_tokens_per_call * price_per_input_token\n",
    "    output_tokens_cost = output_tokens_per_call * price_per_output_token\n",
    "    cost = input_tokens_cost + output_tokens_cost\n",
    "\n",
    "    if debug is True:\n",
    "        print(input_tokens_per_call, output_tokens_per_call)\n",
    "        print(input_tokens_cost, output_tokens_cost)\n",
    "        print(cost)\n",
    "\n",
    "    return cost"
   ]
  },
  {
   "cell_type": "code",
   "execution_count": 3,
   "id": "efa21b2a-2b68-4fea-86b4-dfa7516b20c7",
   "metadata": {},
   "outputs": [
    {
     "name": "stdout",
     "output_type": "stream",
     "text": [
      "16250.0 1666.6666666666667\n",
      "0.00975 0.004\n",
      "0.01375\n"
     ]
    },
    {
     "data": {
      "text/plain": [
       "0.01375"
      ]
     },
     "execution_count": 3,
     "metadata": {},
     "output_type": "execute_result"
    }
   ],
   "source": [
    "call_cost(10, True)"
   ]
  },
  {
   "cell_type": "code",
   "execution_count": 4,
   "id": "d97c89f4-0d47-4513-968c-bfe6394433b0",
   "metadata": {},
   "outputs": [],
   "source": [
    "non_successed_issues = {'quantity': 47278, 'calls_per_issue': 6.14, 'avg_call_duration': 55.99 / 60.}\n",
    "successed_issues = {'quantity': 6928, 'calls_per_issue': 14.07, 'avg_call_duration': 293.02/60.}"
   ]
  },
  {
   "cell_type": "code",
   "execution_count": 5,
   "id": "13face9b-fe12-434f-b927-e80fbcec3cc9",
   "metadata": {},
   "outputs": [
    {
     "data": {
      "text/plain": [
       "593.6717279155694"
      ]
     },
     "execution_count": 5,
     "metadata": {},
     "output_type": "execute_result"
    }
   ],
   "source": [
    "successed_issues['quantity']*successed_issues['calls_per_issue'] * call_cost(successed_issues['avg_call_duration'])"
   ]
  },
  {
   "cell_type": "code",
   "execution_count": 6,
   "id": "9eec753b-8dac-43c3-ae19-70fcb7aff6c6",
   "metadata": {},
   "outputs": [
    {
     "data": {
      "text/plain": [
       "311.0663836524881"
      ]
     },
     "execution_count": 6,
     "metadata": {},
     "output_type": "execute_result"
    }
   ],
   "source": [
    "non_successed_issues['quantity'] * non_successed_issues['calls_per_issue'] * call_cost(non_successed_issues['avg_call_duration'])"
   ]
  },
  {
   "cell_type": "code",
   "execution_count": null,
   "id": "edd3b692-818b-41a1-a18b-bb865e1cbdba",
   "metadata": {},
   "outputs": [],
   "source": []
  }
 ],
 "metadata": {
  "kernelspec": {
   "display_name": "pytorch-venv",
   "language": "python",
   "name": "pytorch-venv"
  },
  "language_info": {
   "codemirror_mode": {
    "name": "ipython",
    "version": 3
   },
   "file_extension": ".py",
   "mimetype": "text/x-python",
   "name": "python",
   "nbconvert_exporter": "python",
   "pygments_lexer": "ipython3",
   "version": "3.11.11"
  }
 },
 "nbformat": 4,
 "nbformat_minor": 5
}
